{
 "cells": [
  {
   "cell_type": "markdown",
   "metadata": {},
   "source": [
    "[![Binder](https://mybinder.org/badge.svg)](https://mybinder.org/v2/gh/bwrsandman/learningpython/master?filepath=08-Reading-And-Writing-Files.ipynb)\n",
    "# Reading and Writing Files"
   ]
  },
  {
   "cell_type": "markdown",
   "metadata": {},
   "source": [
    "## Review\n",
    "\n",
    "Reading and writing is sometimes called io. In the world of computer science and especially in linux system, may concepts are seen as reading and writing file type objects. For example, you can read a byte from a file on a hard drive in the same way you can read a byte from a microphone. You can write a byte to the hard disk in the same way you can write a byte to the speakers to produce a frequency. The same is true for networks, usb, motors, etc.\n",
    "\n",
    "The main functions we are going to use are the `open`, `read` and `write` functions.\n",
    "\n",
    "The files used can be found in Home and jupyter can open them.\n",
    "\n",
    "When it comes to reading and writing, the extensions (e.g. \".txt\") don't matter. Their use is mostly that programs like extensions because it tells them how they should open a file.\n",
    "\n",
    "Since IO is all about programming how to interpret the bytes, there is no need to worry about extensions in these excercises. That being said, we will work with \".txt\" files since they are what jupyter prefers."
   ]
  },
  {
   "cell_type": "markdown",
   "metadata": {},
   "source": [
    "## Reading Exercise\n",
    "\n",
    "In your own words explain what is happening in the following code snippets.\n",
    "\n",
    "For each line, what does python do? Where are the files, what is being read or writen and how many bytes are being exchanged?"
   ]
  },
  {
   "cell_type": "markdown",
   "metadata": {},
   "source": [
    "### 1. Simple file read\n",
    "\n",
    "Prediction:\n",
    "\n",
    "(Double click here and enter your prediction before running the next cell)"
   ]
  },
  {
   "cell_type": "code",
   "execution_count": null,
   "metadata": {},
   "outputs": [],
   "source": [
    "print(open(\"read_write_1.txt\").read())"
   ]
  },
  {
   "cell_type": "markdown",
   "metadata": {},
   "source": [
    "### 2. File read by line\n",
    "\n",
    "Prediction:\n",
    "\n",
    "(Double click here and enter your prediction before running the next cell)"
   ]
  },
  {
   "cell_type": "code",
   "execution_count": null,
   "metadata": {},
   "outputs": [],
   "source": [
    "print(open(\"read_write_2.txt\").readlines())"
   ]
  },
  {
   "cell_type": "markdown",
   "metadata": {},
   "source": [
    "### 3. File write by line\n",
    "\n",
    "Prediction:\n",
    "\n",
    "(Double click here and enter your prediction before running the next cell)"
   ]
  },
  {
   "cell_type": "code",
   "execution_count": null,
   "metadata": {},
   "outputs": [],
   "source": [
    "open(\"read_write_3.txt\", \"w\").write(\"\"\"Hello World!\n",
    "- From reading exercise 3\n",
    "This is a file we have created ourselves!\n",
    "Go see in Home that the file now exists and has this content\n",
    "\"\"\")\n",
    "\n",
    "print(open(\"read_write_3.txt\").read())"
   ]
  },
  {
   "cell_type": "markdown",
   "metadata": {},
   "source": [
    "### 4. Using the with statement\n",
    "\n",
    "Prediction:\n",
    "\n",
    "(Double click here and enter your prediction before running the next cell)"
   ]
  },
  {
   "cell_type": "code",
   "execution_count": null,
   "metadata": {},
   "outputs": [],
   "source": [
    "with open(\"read_write_4.txt\", \"w\") as file:\n",
    "    file.write(\"Hello World!\\n\")\n",
    "    file.write(\"- From reading exercise 4\\n\")\n",
    "    file.write(\"This is a file we have created using a with statement\\n\")\n",
    "    file.write(\"with statements are safer because they clean-up \\n\")\n",
    "    file.write(\"and closes the file if an error occurs in the body\\n\")\n",
    "\n",
    "print(open(\"read_write_4.txt\").read())"
   ]
  },
  {
   "cell_type": "markdown",
   "metadata": {},
   "source": [
    "### 5. Write append\n",
    "\n",
    "Prediction:\n",
    "\n",
    "(Double click here and enter your prediction before running the next cell)"
   ]
  },
  {
   "cell_type": "code",
   "execution_count": null,
   "metadata": {},
   "outputs": [],
   "source": [
    "open(\"read_write_5.txt\", \"w\").write(\"Hello World!\\n\")\n",
    "print(open(\"read_write_5.txt\").read())\n",
    "print(\"---\")\n",
    "open(\"read_write_5.txt\", \"w\").write(\"Goodbye World!\\n\")\n",
    "print(open(\"read_write_5.txt\").read())\n",
    "print(\"---\")\n",
    "open(\"read_write_5.txt\", \"w\").write(\"Hello World!\\n\")\n",
    "print(open(\"read_write_5.txt\").read())\n",
    "print(\"---\")\n",
    "open(\"read_write_5.txt\", \"a\").write(\"Goodbye World!\\n\")\n",
    "print(open(\"read_write_5.txt\").read())"
   ]
  },
  {
   "cell_type": "markdown",
   "metadata": {},
   "source": [
    "## Writing Exercise\n",
    "\n",
    "In the following cells, write code which implements what the comments ask.\n",
    "\n",
    "Re-read the code in the same way as the Reading exercise\n",
    "to catch any errors and to predict how the code will be executed.\n",
    "\n",
    "Run the code by pressing the run button from the toolbar while\n",
    "the cell is selected or go to (Cell|Run Cells) with the cell\n",
    "selected."
   ]
  },
  {
   "cell_type": "code",
   "execution_count": null,
   "metadata": {},
   "outputs": [],
   "source": [
    "# 1.\n",
    "# Open, read and print the contents of read_write_6.txt"
   ]
  },
  {
   "cell_type": "code",
   "execution_count": null,
   "metadata": {},
   "outputs": [],
   "source": [
    "# 2.\n",
    "# Open and read the contents of read_write_7.txt and open and write a copy to read_write_8.txt"
   ]
  },
  {
   "cell_type": "code",
   "execution_count": null,
   "metadata": {},
   "outputs": [],
   "source": [
    "# 3.\n",
    "# Create a function which takes a number as a parameter and using range\n",
    "# write numbers counting up on each line of read_write_9.txt: 0, 1, 2, 3, ..., number"
   ]
  },
  {
   "cell_type": "markdown",
   "metadata": {},
   "source": [
    "## Next Notebook\n",
    "\n",
    "Proceed with the next notebook by going back to the root File directory or parent tab."
   ]
  }
 ],
 "metadata": {
  "kernelspec": {
   "display_name": "Python 3",
   "language": "python",
   "name": "python3"
  },
  "language_info": {
   "codemirror_mode": {
    "name": "ipython",
    "version": 3
   },
   "file_extension": ".py",
   "mimetype": "text/x-python",
   "name": "python",
   "nbconvert_exporter": "python",
   "pygments_lexer": "ipython3",
   "version": "3.6.4"
  }
 },
 "nbformat": 4,
 "nbformat_minor": 2
}
