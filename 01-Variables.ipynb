{
 "cells": [
  {
   "cell_type": "markdown",
   "metadata": {},
   "source": [
    "# Variables"
   ]
  },
  {
   "cell_type": "markdown",
   "metadata": {},
   "source": [
    "## Review\n",
    "\n",
    "Variables are data in a location in the memory of your system.\n",
    "They can be used to move information around and to perform computations on them.\n",
    "Information can take many forms (**[types](https://docs.python.org/3.6/library/stdtypes.html)**) such as Boolean (True/1 or False/0) values, integers (..., -2, -1, 0, 1, 2, ...), floats (..., -1.0, -0.9999..., ..., 0, ..., 0.9999..., 1.0, ...), strings (text), file handles (your computer's interaction with hard drives), web connections, pixels on a screen, windows, commands for a external device such as a motor, etc.\n",
    "\n",
    "### Declaration\n",
    "\n",
    "A variable is said to be declared when it first referred to by name and given a value (e.g. `x =  2`). Think of it as putting a label on an empty box.\n",
    "\n",
    "A declaration in Python is done with the first assignment and has the same syntax.\n",
    "Both happen on the same line with the same syntax.\n",
    "\n",
    "If a variable is referred to before declaration, python will not know the variable and return a `NameError` (e.g `NameError: name 'x' is not defined`). Think of it as asking for the value of something that was not defined (e.g. You can't tell me the age of someone you haven't met yet.)\n",
    "\n",
    "### Assignment\n",
    "\n",
    "An assigment is the act of putting a value in the location of a declared variable. If declaration of a variable is putting a label on a box, assignment is emptying the box and putting something new in it. If a variable is not declared, then the assignment will also perform a declaration of the variable. In python, you can assign any value to an already declared variable but a declaration cannot be done without an assignment.\n",
    "\n",
    "Again: A declaration in Python is done with the first assignment and has the same syntax.\n",
    "Both happen on the same line with the same syntax (e.g. in `x = 2`, if x was not previously declared, this statement declares it and assigns it the value `2` at the same time. If it were already declared earlier, then this statement simply assigns it the new value of `2`)\n",
    "\n",
    "### Referral\n",
    "\n",
    "To refer to a variable is to access the value contained in it. Think of it as looking for a box\n",
    "with a certain label and then using what is inside (after this, you place the contents back in)."
   ]
  },
  {
   "cell_type": "markdown",
   "metadata": {},
   "source": [
    "## Reading Exercise\n",
    "\n",
    "In your own words explain what is happening in the following code snippets.\n",
    "For each line, what does python do to the variables, their values and based on what? What are the values at each line and what are their types?\n",
    "Once done, run the code snippet and see if you were able to predict the output."
   ]
  },
  {
   "cell_type": "markdown",
   "metadata": {},
   "source": [
    "### 1. Declaration/Assignement\n",
    "\n",
    "Prediction:\n",
    "\n",
    "(Double click here and enter your prediction before running the next cell)"
   ]
  },
  {
   "cell_type": "code",
   "execution_count": null,
   "metadata": {},
   "outputs": [],
   "source": [
    "x = 1\n",
    "x"
   ]
  },
  {
   "cell_type": "markdown",
   "metadata": {},
   "source": [
    "### 2. Declaration, Assignment and Referral (a)\n",
    "\n",
    "Prediction:\n",
    "\n",
    "(Double click here and enter your prediction before running the next cell)"
   ]
  },
  {
   "cell_type": "code",
   "execution_count": null,
   "metadata": {},
   "outputs": [],
   "source": [
    "x = 8\n",
    "y = x * 2 + 3\n",
    "y"
   ]
  },
  {
   "cell_type": "markdown",
   "metadata": {},
   "source": [
    "### 2. (b)\n",
    "\n",
    "Prediction:\n",
    "\n",
    "(Double click here and enter your prediction before running the next cell)"
   ]
  },
  {
   "cell_type": "code",
   "execution_count": null,
   "metadata": {},
   "outputs": [],
   "source": [
    "x = 8\n",
    "x = x * 2 + 3\n",
    "x"
   ]
  },
  {
   "cell_type": "markdown",
   "metadata": {},
   "source": [
    "### 3. Types\n",
    "\n",
    "Prediction:\n",
    "\n",
    "(Double click here and enter your prediction before running the next cell)"
   ]
  },
  {
   "cell_type": "code",
   "execution_count": null,
   "metadata": {},
   "outputs": [],
   "source": [
    "a = 8\n",
    "b = -7\n",
    "c = 1.111\n",
    "d = \"Hello World!\"\n",
    "e = a\n",
    "f = False\n",
    "g = None\n",
    "h = [1, 2, 3]\n",
    "\n",
    "# Outputting the values and their types to Out[ ]\n",
    "print (\"\"\"\n",
    "a = %s (%s)\n",
    "b = %s (%s)\n",
    "c = %s (%s)\n",
    "d = %s (%s)\n",
    "e = %s (%s)\n",
    "f = %s (%s)\n",
    "g = %s (%s)\n",
    "h = %s (%s)\n",
    "\"\"\" % (\n",
    "    a, type(a).__name__,\n",
    "    b, type(b).__name__,\n",
    "    c, type(c).__name__,\n",
    "    d, type(d).__name__,\n",
    "    e, type(e).__name__,\n",
    "    f, type(f).__name__,\n",
    "    g, type(g).__name__,\n",
    "    h, type(h).__name__,\n",
    "))"
   ]
  },
  {
   "cell_type": "markdown",
   "metadata": {},
   "source": [
    "## Writing Exercise\n",
    "\n",
    "In the following cells, write code which implements what the comments ask.\n",
    "\n",
    "Re-read the code in the same way as the Reading exercise\n",
    "to catch any errors and to predict how the code will be executed.\n",
    "\n",
    "Run the code by pressing the run button from the toolbar while\n",
    "the cell is selected or go to (Cell|Run Cells) with the cell\n",
    "selected."
   ]
  },
  {
   "cell_type": "code",
   "execution_count": null,
   "metadata": {},
   "outputs": [],
   "source": [
    "# 1.\n",
    "# In this cell, on the following lines,\n",
    "# declare a variable with the name 'my_var'\n",
    "# and assign it an int value\n",
    "\n"
   ]
  },
  {
   "cell_type": "code",
   "execution_count": null,
   "metadata": {},
   "outputs": [],
   "source": [
    "# 2.\n",
    "# In this cell, on the following lines,\n",
    "# declare a variable with the name 'my_first_var'\n",
    "# and assign it an int value, then delcate a second\n",
    "# variable with the name 'my_second_var' and assign it\n",
    "# a value by referring to 'my_first_var' and adding 4\n",
    "\n",
    "\n"
   ]
  },
  {
   "cell_type": "code",
   "execution_count": null,
   "metadata": {},
   "outputs": [],
   "source": [
    "# 3.\n",
    "# In this cell, on the following lines,\n",
    "# declare two variables with any name you choose,\n",
    "# assign them any value of type float you choose\n",
    "# finally, declare a third variable and assign them\n",
    "# the sum of the values of the other two\n",
    "\n",
    "# Declare the first two variables with int values\n",
    "\n",
    "# Declare the third variable with the sum of the first two\n"
   ]
  },
  {
   "cell_type": "code",
   "execution_count": null,
   "metadata": {},
   "outputs": [],
   "source": [
    "# 4.\n",
    "# In this cell, on the following lines,\n",
    "# declare five variable with any name you choose\n",
    "# and assign them one of each type:\n",
    "\n",
    "# int\n",
    "\n",
    "# float\n",
    "\n",
    "# str\n",
    "\n",
    "# bool\n",
    "\n",
    "# list\n"
   ]
  },
  {
   "cell_type": "markdown",
   "metadata": {},
   "source": [
    "## Next Notebook\n",
    "\n",
    "Proceed with the next notebook by going back to the root File directory or parent tab."
   ]
  }
 ],
 "metadata": {
  "kernelspec": {
   "display_name": "Python 3",
   "language": "python",
   "name": "python3"
  },
  "language_info": {
   "codemirror_mode": {
    "name": "ipython",
    "version": 3
   },
   "file_extension": ".py",
   "mimetype": "text/x-python",
   "name": "python",
   "nbconvert_exporter": "python",
   "pygments_lexer": "ipython3",
   "version": "3.6.3"
  }
 },
 "nbformat": 4,
 "nbformat_minor": 2
}
