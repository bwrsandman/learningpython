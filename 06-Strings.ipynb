{
 "cells": [
  {
   "cell_type": "markdown",
   "metadata": {},
   "source": [
    "# Strings"
   ]
  },
  {
   "cell_type": "markdown",
   "metadata": {},
   "source": [
    "## Review\n",
    "\n",
    "Strings are a python datatype representing text sequences and are represented by the type `str`. Python 3 uses [UTF-8](https://en.wikipedia.org/wiki/UTF-8) for its text by default. This is in contrast to Python 3 and many other languages which use [ASCII](https://en.wikipedia.org/wiki/ASCII) by default. The advantage of using UTF-8 is that many more characters can be expressed such as accents, arab and chinese characters as well as [emoji](). The drawback is that each character in UTF-8 takes twice as much space (16 bits instead of 8 bits) as one in ASCII.\n",
    "\n",
    "There are many string manipulations possible such as [printf style](https://docs.python.org/3/library/stdtypes.html#old-string-formatting) and [advanced](https://www.python.org/dev/peps/pep-3101/) string formatting as well as a number of [string methods](https://docs.python.org/3.6/library/stdtypes.html#string-methods)"
   ]
  },
  {
   "cell_type": "markdown",
   "metadata": {},
   "source": [
    "## Reading Exercise\n",
    "\n",
    "In your own words explain what is happening in the following code snippets.\n",
    "\n",
    "For each line, what does python do?\n",
    "\n",
    "What is the operation done on the string?"
   ]
  },
  {
   "cell_type": "markdown",
   "metadata": {},
   "source": [
    "### 1. Simple prints\n",
    "\n",
    "Prediction:\n",
    "\n",
    "(Double click here and enter your prediction before running the next cell)"
   ]
  },
  {
   "cell_type": "code",
   "execution_count": null,
   "metadata": {},
   "outputs": [],
   "source": [
    "print(\"Hello world!\")\n",
    "print(\"Hello 🌎!\")\n",
    "print(\"\\033[93mHello \\033[94mworld\\033[0m!\")\n",
    "print(\"Bonjour à toute la terre!\")\n",
    "print(\"مرحبا بالعالم\")\n",
    "print(\"你好，世界\")\n",
    "print(\"He͇̥͓̙̱͖̰̔̏̉͆ͫ͆ͧlḽ͐o̜̠͍̠͈̙̼ ̇͒w̌̇̇o̮̝͇̫̲̺r̿l͈͓̻̩̦̳͈ͩ̇̇͑ͨ͆͂d̖̈́\")"
   ]
  },
  {
   "cell_type": "markdown",
   "metadata": {},
   "source": [
    "### 2. Simple string methods\n",
    "\n",
    "Prediction:\n",
    "\n",
    "(Double click here and enter your prediction before running the next cell)"
   ]
  },
  {
   "cell_type": "code",
   "execution_count": null,
   "metadata": {},
   "outputs": [],
   "source": [
    "print(\"Hello World!\".upper())\n",
    "print(\"Hello World!\".lower())\n",
    "print(\"hello world\".capitalize())\n",
    "print(\"HELLO world\".capitalize())\n",
    "print(\"Hello World!\".center(50))\n",
    "print(\"Hello World!\".count(\"l\"))\n",
    "print(\"Hello World!\".replace(\"Hello\", \"Goodbye\"))\n",
    "print(\"Hello World!\".startswith(\"Hell\"))\n",
    "print(\"Hello World!\".find(\"W\"))\n",
    "print(\"Hello World!\".find(\"o\"))\n",
    "print(\"Hello\" + \"World!\")\n",
    "print(\"Hello World!\".split(\" \"))\n",
    "print(\" \".join([\"Hello\", \"World!\"]))\n",
    "print(\"1\".isdigit())\n",
    "print(\"         Hello World    !     \".strip())"
   ]
  },
  {
   "cell_type": "markdown",
   "metadata": {},
   "source": [
    "### 3. String formatting\n",
    "\n",
    "Prediction:\n",
    "\n",
    "(Double click here and enter your prediction before running the next cell)"
   ]
  },
  {
   "cell_type": "code",
   "execution_count": null,
   "metadata": {},
   "outputs": [],
   "source": [
    "print(\"Hello %s!\" % \"World\")\n",
    "print(\"%s %s!\" % (\"Hello\", \"World\"))\n",
    "print(\"number is: %s\" % 0.00001)\n",
    "print(\"number is: %f\" % 0.00001)\n",
    "print(\"number is: %.2f\" % 0.00001)\n",
    "print(\"number is: %10.2f\" % 0.00001)\n",
    "print(\"number is: %010.2f\" % 0.00001)\n",
    "print(\"number is: %+.2f\" % 0.00001)\n",
    "print(\"number is: %s\" % 12)\n",
    "print(\"number is: %f\" % 12)\n",
    "print(\"number is: %d\" % 12)\n",
    "print(\"number is: %10d\" % 12)\n",
    "print(\"number is: %010d\" % 12)\n",
    "print(\"number is: 0x%o\" % 12)\n",
    "print(\"number is: 0x%x\" % 12)\n",
    "print(\"number is: 0x%X\" % 12)\n",
    "print(\"number is: 0x%08X\" % 12)\n",
    "print(\"----------\")\n",
    "print(\"{0} {1}\".format(\"Hello\", \"World\"))\n",
    "print(\"{0} {1} {0}\".format(\"Hello\", \"World\"))\n",
    "print(\"{greeting} {name} {greeting}\".format(greeting=\"Hello\", name=\"World\"))\n",
    "print(\"number is: {0}\".format(12))\n",
    "print(\"number is: {0:b}\".format(12))\n",
    "print(\"----------\")\n",
    "print(\"%(greeting)s %(name)s %(greeting)s\" % {\"greeting\": \"Hello\", \"name\": \"World\"})"
   ]
  },
  {
   "cell_type": "markdown",
   "metadata": {},
   "source": [
    "### 4. Special characters\n",
    "\n",
    "Prediction:\n",
    "\n",
    "(Double click here and enter your prediction before running the next cell)"
   ]
  },
  {
   "cell_type": "code",
   "execution_count": null,
   "metadata": {},
   "outputs": [],
   "source": [
    "print(\"Hello\\nWorld!\")\n",
    "print(\"---\")\n",
    "print(\"Hello World!\\rByebye\")\n",
    "print(\"---\")\n",
    "print(\"\\tHello World!\")"
   ]
  },
  {
   "cell_type": "markdown",
   "metadata": {},
   "source": [
    "### 5. Strings as iteratables\n",
    "\n",
    "Prediction:\n",
    "\n",
    "(Double click here and enter your prediction before running the next cell)"
   ]
  },
  {
   "cell_type": "code",
   "execution_count": null,
   "metadata": {},
   "outputs": [],
   "source": [
    "print(\"Hello World!\"[4])\n",
    "print(\"Hello World!\"[6])\n",
    "print(\"Hello World!\"[:5])\n",
    "print(\"Hello World!\"[6:])\n",
    "print(\"Hello World!\"[::2])\n",
    "print(\"Hello World!\"[::-1])\n",
    "\n",
    "for c in \"Hello World!\":\n",
    "    print(c)"
   ]
  },
  {
   "cell_type": "markdown",
   "metadata": {},
   "source": [
    "## Writing Exercise\n",
    "\n",
    "In the following cells, write code which implements what the comments ask.\n",
    "\n",
    "Re-read the code in the same way as the Reading exercise\n",
    "to catch any errors and to predict how the code will be executed.\n",
    "\n",
    "Run the code by pressing the run button from the toolbar while\n",
    "the cell is selected or go to (Cell|Run Cells) with the cell\n",
    "selected."
   ]
  },
  {
   "cell_type": "code",
   "execution_count": null,
   "metadata": {},
   "outputs": [],
   "source": [
    "# 1.\n",
    "# Create a function which takes a parameter and using str functions prints it three time.\n",
    "# Once in upper case, once in lower case and once with only the first letter capitalized\n",
    "# Call the function with many types of strings and with different letters capitalized\n"
   ]
  },
  {
   "cell_type": "code",
   "execution_count": null,
   "metadata": {},
   "outputs": [],
   "source": [
    "# 2.\n",
    "# Create a function with a name as a parameter which prints Hello to the person's name.\n",
    "# Call the function with many names\n"
   ]
  },
  {
   "cell_type": "code",
   "execution_count": null,
   "metadata": {},
   "outputs": [],
   "source": [
    "# 3.\n",
    "# Modify the multiplication function from the function notebook and add a line at the top of\n",
    "# the function body which prints out \"Calculating x * y\" where \"x\" and \"y\" are replaced by\n",
    "# the function parameters\n",
    "# Call the function with parameters\n"
   ]
  },
  {
   "cell_type": "code",
   "execution_count": null,
   "metadata": {},
   "outputs": [],
   "source": [
    "# 4.\n",
    "# Fill in the function which takes a message as a parameter\n",
    "# and replace \"chewing gum with \"bubble gum\" before returning the modified string\n",
    "\n",
    "def replace_chewing_gum(message):\n",
    "    # ==== Insert code here ====\n",
    "    \n",
    "# Testing the function, feel free to add more\n",
    "print(replace_chewing_gum(\"I love chewing gum. It tastes so good!\"))"
   ]
  },
  {
   "cell_type": "markdown",
   "metadata": {},
   "source": [
    "## Next Notebook\n",
    "\n",
    "Proceed with the next notebook by going back to the root File directory or parent tab."
   ]
  }
 ],
 "metadata": {
  "kernelspec": {
   "display_name": "Python 3",
   "language": "python",
   "name": "python3"
  },
  "language_info": {
   "codemirror_mode": {
    "name": "ipython",
    "version": 3
   },
   "file_extension": ".py",
   "mimetype": "text/x-python",
   "name": "python",
   "nbconvert_exporter": "python",
   "pygments_lexer": "ipython3",
   "version": "3.6.3"
  }
 },
 "nbformat": 4,
 "nbformat_minor": 2
}
