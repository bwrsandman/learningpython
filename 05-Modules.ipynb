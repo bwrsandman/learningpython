{
 "cells": [
  {
   "cell_type": "markdown",
   "metadata": {},
   "source": [
    "[![Binder](https://mybinder.org/badge.svg)](https://mybinder.org/v2/gh/bwrsandman/learningpython/master?filepath=05-Modules.ipynb)\n",
    "# Modules"
   ]
  },
  {
   "cell_type": "markdown",
   "metadata": {},
   "source": [
    "## Review\n",
    "\n",
    "[Modules](https://docs.python.org/3/tutorial/modules.html), sometimes called libraries, are collections of definitions which can be reused for different purposes.\n",
    "They are bits of reusable code and are at the core of any software writen to run.\n",
    "\n",
    "There is no technical difference between writing a module and writing a script. Instead of running a libary like you would with a script (e.g. `python script_name.py`), you use the `import` keyword inside of python (e.g. `import module_name.py`).\n",
    "\n",
    "Modules are made by creating a script as a text file ending in \".py\" and inserting definitions and in them. The name of file is the name of the module. Be careful not to use the `-` character in the script filename as this will confuse python which interprets `-` as a minus operator. In general `_` is preferable.\n",
    "\n",
    "Python (as with most languages) has a [Standard Library](https://docs.python.org/3/library/index.html). This library is a collection of modules which are available by default in any python environment. This means that you don't have to write your own implementation of the `print` function or create a module for random functions, you can just `import random`. This allows for a much quicker start to programming. Python has an extensive standard libary compared to many other languages and refers this as their [\"Batteries included\"](https://www.python.org/dev/peps/pep-0206/#batteries-included-philosophy) philosophy."
   ]
  },
  {
   "cell_type": "markdown",
   "metadata": {},
   "source": [
    "## Reading Exercise\n",
    "\n",
    "In your own words explain what is happening in the following code snippets.\n",
    "\n",
    "For each line, what does python do.\n",
    "\n",
    "For each module imported, what do you think is the name of the `.py` file and try to find it in the Home of these notebooks and take a look at the contents."
   ]
  },
  {
   "cell_type": "markdown",
   "metadata": {},
   "source": [
    "### 1. Simple import module and run function\n",
    "\n",
    "Prediction:\n",
    "\n",
    "(Double click here and enter your prediction before running the next cell)"
   ]
  },
  {
   "cell_type": "code",
   "execution_count": null,
   "metadata": {},
   "outputs": [],
   "source": [
    "import module_1\n",
    "\n",
    "module_1.hello()"
   ]
  },
  {
   "cell_type": "markdown",
   "metadata": {},
   "source": [
    "### 2. Import module which imports another module\n",
    "\n",
    "Prediction:\n",
    "\n",
    "(Double click here and enter your prediction before running the next cell)"
   ]
  },
  {
   "cell_type": "code",
   "execution_count": null,
   "metadata": {},
   "outputs": [],
   "source": [
    "import module_2\n",
    "\n",
    "module_2.hello()\n",
    "module_2.module_1.hello()"
   ]
  },
  {
   "cell_type": "markdown",
   "metadata": {},
   "source": [
    "### 3. Importing specific declarations from a module\n",
    "\n",
    "Prediction:\n",
    "\n",
    "(Double click here and enter your prediction before running the next cell)"
   ]
  },
  {
   "cell_type": "code",
   "execution_count": null,
   "metadata": {},
   "outputs": [],
   "source": [
    "from module_3 import z\n",
    "from module_3 import hello\n",
    "\n",
    "hello()\n",
    "print(z)"
   ]
  },
  {
   "cell_type": "markdown",
   "metadata": {},
   "source": [
    "### 4. Importing specific declarations from a module with aliases\n",
    "\n",
    "Prediction:\n",
    "\n",
    "(Double click here and enter your prediction before running the next cell)"
   ]
  },
  {
   "cell_type": "code",
   "execution_count": null,
   "metadata": {},
   "outputs": [],
   "source": [
    "from module_1 import hello as hello_1\n",
    "from module_2 import hello as hello_2\n",
    "from module_3 import hello as hello_3\n",
    "\n",
    "hello_1()\n",
    "hello_2()\n",
    "hello_3()"
   ]
  },
  {
   "cell_type": "markdown",
   "metadata": {},
   "source": [
    "## Writing Exercise"
   ]
  },
  {
   "cell_type": "markdown",
   "metadata": {},
   "source": [
    "### 1.\n",
    "\n",
    "Play around with the python standard library.\n",
    "\n",
    "1. Try importing the `sys` library and printing the `copyright` variable it contains.\n",
    "2. Try importing the `math` libarary and printing the `pi` variable it contains.\n",
    "3. Try importing the `math` libarary and calling the `sin` and `cos` functions it contains with `math.pi` as the parameter.\n",
    "4. Try importing the `os` library and printing the current working directory by calling the `getcwd` function it contains.\n",
    "5. Try importing the `os` library and printing the properties of the operating system you are running by calling the `uname` function it contains.\n",
    "6. Try importing the `random` library and printing a random float by calling the `random` function it contains.\n",
    "7. Try importing the `datetime` library and running `datetime.datetime.now()`\n",
    "8. Read about the [sqlite3 module](https://docs.python.org/3/library/sqlite3.html)\n",
    "9. Read about the [csv module](https://docs.python.org/3/library/csv.html)\n",
    "10. Play around with [others](https://docs.python.org/3/library/index.html)"
   ]
  },
  {
   "cell_type": "code",
   "execution_count": null,
   "metadata": {},
   "outputs": [],
   "source": []
  },
  {
   "cell_type": "markdown",
   "metadata": {},
   "source": [
    "### 2.\n",
    "\n",
    "Create a module for the functions created in the Functions notebook.\n",
    "\n",
    "To do this, create a `.py` file in Home by creating a new text file an renaming it to\n",
    "`functions.py`.\n",
    "\n",
    "Insert your function declarations into this new text file.\n",
    "\n",
    "Test the module by importing it and calling everyone of its functions in the following cell."
   ]
  },
  {
   "cell_type": "code",
   "execution_count": null,
   "metadata": {},
   "outputs": [],
   "source": []
  },
  {
   "cell_type": "markdown",
   "metadata": {},
   "source": [
    "## Extra\n",
    "### The Zen of Python\n",
    "The python standard library include the `this` library. This library is one [many](https://hackernoon.com/pythons-easter-eggs-and-hidden-jokes-d7368c7fe2c2) python [easter-eggs](https://en.wikipedia.org/wiki/Easter_egg_(media%29).\n",
    "\n",
    "The libarary is implemented with a simple `print()` call which is not contained within a function. For this reason, the `print()` call is executed at import time.\n",
    "\n",
    "It is a good exercise to memorize each line of the Zen of Python as they are good\n",
    "principles to use in developement (and not just in python).\n",
    "\n",
    "An explanation for each line of The Zen of Python can be found [here](https://www.quora.com/What-do-different-aphorisms-in-The-Zen-of-Python-mean)."
   ]
  },
  {
   "cell_type": "code",
   "execution_count": null,
   "metadata": {},
   "outputs": [],
   "source": [
    "# Run me\n",
    "import this"
   ]
  },
  {
   "cell_type": "markdown",
   "metadata": {},
   "source": [
    "## Next Notebook\n",
    "\n",
    "Proceed with the next notebook by going back to the root File directory, parent tab or by clicking [here](06-Strings.ipynb)."
   ]
  }
 ],
 "metadata": {
  "kernelspec": {
   "display_name": "Python 3",
   "language": "python",
   "name": "python3"
  },
  "language_info": {
   "codemirror_mode": {
    "name": "ipython",
    "version": 3
   },
   "file_extension": ".py",
   "mimetype": "text/x-python",
   "name": "python",
   "nbconvert_exporter": "python",
   "pygments_lexer": "ipython3",
   "version": "3.6.3"
  }
 },
 "nbformat": 4,
 "nbformat_minor": 2
}
