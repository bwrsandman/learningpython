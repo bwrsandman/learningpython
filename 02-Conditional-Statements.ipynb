{
 "cells": [
  {
   "cell_type": "markdown",
   "metadata": {},
   "source": [
    "# Conditional Statements"
   ]
  },
  {
   "cell_type": "markdown",
   "metadata": {},
   "source": [
    "## Review\n",
    "\n",
    "Conditional statements are used to control execution. They are comprised of one or more clauses and a body.\n",
    "\n",
    "### Clause\n",
    "\n",
    "The first clause must be and is the only one started by an `if` keyword. Another `if` clause marks the beginning of a new and logically separate statement.\n",
    "The `elif` and `else` clause accompany the `if` clause but cannot be used without it.\n",
    "The `else` cannot be used more than once per conditional statment and is the last clause of a conditional statement.\n",
    "A clause line is terminated by the `:` character.\n",
    "Clauses of a statement are run in order, only one clause will be satisfied.\n",
    "If two clauses of the same statement can evaluate to true, only the first will run.\n",
    "\n",
    "A conditional statment has an **expression** which is reduced to a boolean variable. Only\n",
    "`if` and `elif` can have an expression\n",
    "\n",
    "### Body\n",
    "\n",
    "Following an clause is a body. A clause must have a body follow it on the following line.\n",
    "A body is incremented by 4 spaces (first character which is not a space on each line must be preceeded by 4 spaces more than number the spaces preceeding the clause).\n",
    "The statements in a body are only executed if their clause is satisfied.\n",
    "A clause body has its own [scope](https://en.wikipedia.org/wiki/Scope_(computer_science%29).\n",
    "\n",
    "### Example\n",
    "\n",
    "```python\n",
    "# A one clause conditional statement\n",
    "if 1 == 1:  # \"if\" is the keyword, \"1 == 1\" is the expression which evaluates to True\n",
    "    print(\"one equals one\")\n",
    "    \n",
    "# A two clause conditional statement\n",
    "if x == 1:  # \"if\" is the keyword, \"x == 1\" is the expression\n",
    "    print(\"value of x equals one\")\n",
    "else:  # \"else\" is the keyword, there is no expression\n",
    "    print(\"value of x can equal anything but one\")\n",
    "    \n",
    "# A many clause conditional statement\n",
    "if x == 1:  # \"if\" is the keyword, \"x == 1\" is the expression\n",
    "    print(\"value of x equals one\")\n",
    "elif x == 1:  # \"elif\" is the keyword, \"x == 1\" is the expression\n",
    "    print(\"This can never be run since the first clause would execute\")\n",
    "elif x == 2:  # \"elif\" is the keyword, \"x == 2\" is the expression\n",
    "    print(\"value of x equals two\")\n",
    "elif x == 3:  # \"elif\" is the keyword, \"x == 3\" is the expression\n",
    "    print(\"value of x equals three\")\n",
    "else:  # \"else\" is the keyword, there is no expression\n",
    "    print(\"value of x can equal anything but one to three\")\n",
    "    \n",
    "# Multiple clauses in different conditional statement\n",
    "if 2 > 1:  # \"if\" is the keyword, \"2 > 1\" is the expression which evaluates to True\n",
    "    print(\"two is larger than one\")\n",
    "if 1 > 1:  # The clause is satisfied and runs because it is a separate from above\n",
    "    print(\"one is larger than one\")\n",
    "```"
   ]
  },
  {
   "cell_type": "markdown",
   "metadata": {},
   "source": [
    "## Reading Exercise\n",
    "\n",
    "In your own words explain what is happening in the following code snippets.\n",
    "For each line, what does python do, which clause is satisfied, what would make each clause be\n",
    "satisfied?\n",
    "Which part is the clause, which part is the body, what is the expression?\n",
    "What does the expression evaluate to (`True` or `False`)\n",
    "Is the current line run based on the value of the expression."
   ]
  },
  {
   "cell_type": "markdown",
   "metadata": {},
   "source": [
    "### 1. [Tautology](https://en.wikipedia.org/wiki/Tautology_(logic%29) and [Contradiction](https://en.wikipedia.org/wiki/Contradiction) (a)\n",
    "\n",
    "Prediction:\n",
    "\n",
    "(Double click here and enter your prediction before running the next cell)"
   ]
  },
  {
   "cell_type": "code",
   "execution_count": null,
   "metadata": {},
   "outputs": [],
   "source": [
    "if True:\n",
    "    print(\"This is known as a tautology\")"
   ]
  },
  {
   "cell_type": "markdown",
   "metadata": {},
   "source": [
    "### 1. [Tautology](https://en.wikipedia.org/wiki/Tautology_(logic%29) and [Contradiction](https://en.wikipedia.org/wiki/Contradiction) (b)\n",
    "\n",
    "Prediction:\n",
    "\n",
    "(Double click here and enter your prediction before running the next cell)"
   ]
  },
  {
   "cell_type": "code",
   "execution_count": null,
   "metadata": {},
   "outputs": [],
   "source": [
    "if False:\n",
    "    print(\"This is known as a contradiction\")"
   ]
  },
  {
   "cell_type": "markdown",
   "metadata": {},
   "source": [
    "### 2. Expressions\n",
    "\n",
    "Prediction:\n",
    "\n",
    "(Double click here and enter your prediction before running the next cell)"
   ]
  },
  {
   "cell_type": "code",
   "execution_count": null,
   "metadata": {},
   "outputs": [],
   "source": [
    "a = 1 == 1\n",
    "b = 0 > 5\n",
    "\n",
    "c = a and b\n",
    "d = a or b\n",
    "\n",
    "e = c and d\n",
    "f = c or d\n",
    "\n",
    "g = not a\n",
    "h = not b\n",
    "\n",
    "i = g and h\n",
    "j = g or h\n",
    "\n",
    "# Outputting the values and their types to Out[ ]\n",
    "print(\"\"\"\n",
    "    a is %s\n",
    "    b is %s\n",
    "    \n",
    "    c is %s\n",
    "    d is %s\n",
    "    \n",
    "    e is %s\n",
    "    f is %s\n",
    "    \n",
    "    g is %s\n",
    "    h is %s\n",
    "    \n",
    "    i is %s\n",
    "    j is %s\n",
    "\"\"\" % (a, b, c, d, e, f, g, h, i, j)\n",
    ")"
   ]
  },
  {
   "cell_type": "markdown",
   "metadata": {},
   "source": [
    "### 3. Multiple clauses\n",
    "\n",
    "Prediction:\n",
    "\n",
    "(Double click here and enter your prediction before running the next cell)"
   ]
  },
  {
   "cell_type": "code",
   "execution_count": null,
   "metadata": {},
   "outputs": [],
   "source": [
    "x = 0.5\n",
    "\n",
    "if x > 0.5:\n",
    "    print(\"Greater than 0.5\")\n",
    "elif x >= 0.5:\n",
    "    print(\"Greater or equal to 0.5\")\n",
    "elif x >= 0.75:\n",
    "    print(\"Greater or equal to 0.75\")\n",
    "else:\n",
    "    print(\"Another value\")\n",
    "    \n",
    "if x > 0.25:\n",
    "    print(\"Greater than 0.25\")\n",
    "if x > 0.4:\n",
    "    print(\"Greater than 0.4\")\n",
    "elif x < 0.75:\n",
    "    print(\"Smaller than 0.75\")"
   ]
  },
  {
   "cell_type": "markdown",
   "metadata": {},
   "source": [
    "### 4. Complex expressions\n",
    "\n",
    "Prediction:\n",
    "\n",
    "(Double click here and enter your prediction before running the next cell)"
   ]
  },
  {
   "cell_type": "code",
   "execution_count": null,
   "metadata": {},
   "outputs": [],
   "source": [
    "x = 0.5\n",
    "y = 10\n",
    "z = -9\n",
    "\n",
    "# First statment\n",
    "if x > 0.5:\n",
    "    print(\"x is greater than 0.5\")\n",
    "elif x == 0.5 and y > 18:\n",
    "    print(\"x is 0.5 and y is greater than 18\")\n",
    "elif -10 < z < 8:\n",
    "    print(\"z is between -10 and 8\")\n",
    "else:\n",
    "    print(\"None of the clauses have evaluated to True\")\n",
    "    \n",
    "# Second statment\n",
    "if x > 0.25 and (y > 15 or z < 0):\n",
    "    print(\"Second statement succeeds on first clause\")\n",
    "else:\n",
    "    print(\"Second statement fails on first clause\")\n",
    "    \n",
    "# Third statment\n",
    "if x > 0.25 or (y > 15 and z < 0):\n",
    "    print(\"Third statement succeeds on first clause\")\n",
    "else:\n",
    "    print(\"Third statement fails on first clause\")\n",
    "    \n",
    "# Fourth statment\n",
    "if x > 0.25 and not (y > 15 or z < 0):\n",
    "    print(\"Fourth statement succeeds on first clause\")\n",
    "else:\n",
    "    print(\"Fourth statement fails on first clause\")"
   ]
  },
  {
   "cell_type": "markdown",
   "metadata": {},
   "source": [
    "## Writing Exercise\n",
    "\n",
    "In the following cells, write code which implements what the comments ask.\n",
    "\n",
    "Re-read the code in the same way as the Reading exercise\n",
    "to catch any errors and to predict how the code will be executed.\n",
    "\n",
    "Run the code by pressing the run button from the toolbar while\n",
    "the cell is selected or go to (Cell|Run Cells) with the cell\n",
    "selected."
   ]
  },
  {
   "cell_type": "code",
   "execution_count": null,
   "metadata": {},
   "outputs": [],
   "source": [
    "# 1.\n",
    "# Declare a variable and assign a bool value to it\n",
    "# Create a two clause (if and else) statement for which\n",
    "# the if expression is the value of the variable\n",
    "\n",
    "# Declare bool\n",
    "\n",
    "# Two clause statament"
   ]
  },
  {
   "cell_type": "code",
   "execution_count": null,
   "metadata": {},
   "outputs": [],
   "source": [
    "# 2.\n",
    "# Declare two variables and assign different int values to them\n",
    "# Create a single clause statment and print a message if the\n",
    "# first variable is larger than the second"
   ]
  },
  {
   "cell_type": "code",
   "execution_count": null,
   "metadata": {},
   "outputs": [],
   "source": [
    "# 3.\n",
    "a = 0.5\n",
    "b = 0.2\n",
    "c = 0.5\n",
    "\n",
    "# For the provided variables print a message only if\n",
    "# a is larger than b or c\n",
    "\n"
   ]
  },
  {
   "cell_type": "code",
   "execution_count": null,
   "metadata": {},
   "outputs": [],
   "source": [
    "# 4\n",
    "a = 0.5\n",
    "b = 0.2\n",
    "c = 0.5\n",
    "\n",
    "# For the provided variables print a message only if\n",
    "# a is larger than 0.5 or b is smaller than 0.25\n",
    "# but if b does not equal c, then this overrides the previous test\n",
    "\n"
   ]
  },
  {
   "cell_type": "markdown",
   "metadata": {},
   "source": [
    "## Next Notebook\n",
    "\n",
    "Proceed with the next notebook by going back to the root File directory or parent tab."
   ]
  },
  {
   "cell_type": "code",
   "execution_count": null,
   "metadata": {},
   "outputs": [],
   "source": []
  }
 ],
 "metadata": {
  "kernelspec": {
   "display_name": "Python 3",
   "language": "python",
   "name": "python3"
  },
  "language_info": {
   "codemirror_mode": {
    "name": "ipython",
    "version": 3
   },
   "file_extension": ".py",
   "mimetype": "text/x-python",
   "name": "python",
   "nbconvert_exporter": "python",
   "pygments_lexer": "ipython3",
   "version": "3.6.3"
  }
 },
 "nbformat": 4,
 "nbformat_minor": 2
}
