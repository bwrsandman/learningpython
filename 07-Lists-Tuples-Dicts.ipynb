{
 "cells": [
  {
   "cell_type": "markdown",
   "metadata": {},
   "source": [
    "[![Binder](https://mybinder.org/badge.svg)](https://mybinder.org/v2/gh/bwrsandman/learningpython/master?filepath=07-Lists-Tuples-Dicts.ipynb)\n",
    "\n",
    "# Lists, Tuples, Dicts, Sets"
   ]
  },
  {
   "cell_type": "markdown",
   "metadata": {},
   "source": [
    "## Review\n",
    "\n",
    "The types `list`, `tuple`, `dict`, `set` are the standard python collections for containing objects. They are all iterable types.\n",
    "\n",
    "Retrieving an object is done with the `[]` operator. `list` and `tuple` are examples of ordered iterables which mean that the order of objects matters while `dict` and `set` are not. Ordered collections use numbers as indices that start at 0 (the first element of a list has index 0 and is retrieved like `my_list[0]`. Negative indices retrieve objects counting down from the last element, the last element of a list can be gotten like this `my_list[-1]`.\n",
    "\n",
    "### Lists\n",
    "\n",
    "A list can be thought of as a container of objects which can be added or removed while maintaining an order. The third object of a list will always be in the third spot (index 2) unless an object was added between index 0 and index 2 or one was removed.\n",
    "\n",
    "They are denoted by the brackets symbols (e.g. `my_list = [\"A\", \"B\", \"C\", \"D\", \"E\"]`).\n",
    "\n",
    "It is sometimes useful to visual a `list` like so in our head:\n",
    "\n",
    "```\n",
    "my_list =\n",
    "  0   1   2   3   4\n",
    "+---+---+---+---+---+\n",
    "| A | B | C | D | E |\n",
    "+---+---+---+---+---+\n",
    "```\n",
    "Here we can see a list of length 5\n",
    "* `my_list[0]` contains A\n",
    "* `my_list[1]` contains B\n",
    "* `my_list[2]` contains C\n",
    "* etc\n",
    "\n",
    "If we run `my_list[2] = \"X\"`, this is what happens\n",
    "\n",
    "```\n",
    "my_list =\n",
    "  0   1   2   3   4\n",
    "+---+---+---+---+---+\n",
    "| A | B | X | D | E |\n",
    "+---+---+---+---+---+\n",
    "```\n",
    "\n",
    "If we run `my_list.insert(2, \"Z\")`, this is what happens\n",
    "\n",
    "```\n",
    "my_list =\n",
    "  0   1   2   3   4   5\n",
    "+---+---+---+---+---+---+\n",
    "| A | B | Z | X | D | E |\n",
    "+---+---+---+---+---+---+\n",
    "```\n",
    "\n",
    "If we run `popped_value = my_list.pop(1)`, this is what happens\n",
    "\n",
    "```\n",
    "my_list =\n",
    "  0   2   3   4   5\n",
    "+---+---+---+---+---+\n",
    "| A | Z | X | D | E |\n",
    "+---+---+---+---+---+\n",
    "\n",
    "popped_value = \"B\"\n",
    "```\n",
    "\n",
    "If we run `my_list.remove(\"D\")`, this is what happens\n",
    "\n",
    "```\n",
    "my_list =\n",
    "  0   2   3   5\n",
    "+---+---+---+---+\n",
    "| A | Z | X | E |\n",
    "+---+---+---+---+\n",
    "```\n",
    "\n",
    "### Tuples\n",
    "\n",
    "Tuples are similar to lists but they are [immutable](https://en.wikipedia.org/wiki/Immutable_object) which means do not allow their values to be changed once they've been assigned. A tuple cannot change its size, order or contents without re-assigning a new tuple to the variable.\n",
    "\n",
    "The fact that they are immutable makes them less flexible but also guarentees that the values will not change. Internally, they are also more efficient than lists.\n",
    "\n",
    "They are declared using parenthesis (e.g. `my_tuple = (1, 2, 3, 4)`). Be careful, though, if your tuple contains only one element, python needs you to add a comma at the end (e.g. `my_tuple = (1, )`)\n",
    "\n",
    "### Sets\n",
    "\n",
    "Set are different from lists in tuples as they are not ordered. They are what is known as a [look-up table](https://en.wikipedia.org/wiki/Lookup_table). The implementation of a set makes searching for an element [very efficient](https://en.wikipedia.org/wiki/Time_complexity#Constant_time). Sets can only have one instance of a object. This makes them very good for removing duplicates or checking is a value already exists.\n",
    "\n",
    "They are denoted by the braces symbol with single values separated by commas (e.g. `my_set = {1, 2, 3, 4}`)\n",
    "\n",
    "### Dicts\n",
    "\n",
    "Dicts are like sets but have an different components: key-value pairs. You can think of a dict as a dictionary (which is where the name comes from): the key is the word and the value is the definition. When you look up the meaning of word in a dictionary, it would be innefficiant to read only the definitions until you find the proper definition, instead we have an efficient way to look up definition: the words are ordered alphabetically and the definitions are attached to them.\n",
    "\n",
    "They are denoted by the braces symbols and with key-value pairs separated by commas (e.g. `my_dict = {\"key\": \"value\", \"word\": \"definition\"`).\n",
    "\n",
    "It is sometimes useful to visual a `dict` like so in our head:\n",
    "\n",
    "```\n",
    "my_dict =\n",
    "\n",
    "+------+\n",
    "|  key | => value\n",
    "+------+\n",
    "| word | => definition\n",
    "+------+\n",
    "```\n",
    "\n",
    "Indexing with a `dict` is a little different than with ordered interable `list` or a `tuple`, instead of numerical indices, we use the key as the index. (e.g. `my_dict[\"word\"]` returns `\"definition\"`.\n",
    "\n",
    "Like with the `set` a dict cannot have multiple instances of the same key. It can however have the same value for two different keys. Just as with a dictionary can have two words with the same definition.\n",
    "\n",
    "Dicts have an analog which is immulatble like the tuple called the `frozen_dict`."
   ]
  },
  {
   "cell_type": "markdown",
   "metadata": {},
   "source": [
    "## Reading Exercise\n",
    "\n",
    "In your own words explain what is happening in the following code snippets.\n",
    "\n",
    "For each line, what does python do, what type of iterable is used, is this type immutable, is it ordered, how is indexing done?"
   ]
  },
  {
   "cell_type": "markdown",
   "metadata": {},
   "source": [
    "### 1. List\n",
    "\n",
    "Prediction:\n",
    "\n",
    "(Double click here and enter your prediction before running the next cell)"
   ]
  },
  {
   "cell_type": "code",
   "execution_count": null,
   "metadata": {},
   "outputs": [],
   "source": [
    "my_list = [\"Hello\", True, 3, -9.8, 11]\n",
    "print(my_list)\n",
    "print(my_list[1])\n",
    "print(my_list[0])\n",
    "print(my_list[-1])\n",
    "print(my_list[2:])\n",
    "print(my_list[2:-1])\n",
    "print(my_list[::2])\n",
    "print(my_list[::-1])\n",
    "print(my_list[::-2])\n",
    "my_list.append(\"append\")\n",
    "print(my_list)\n",
    "print(my_list.pop())\n",
    "print(my_list)\n",
    "print(my_list.pop(0))\n",
    "print(my_list)\n",
    "print(my_list[1])\n",
    "print(my_list.insert(1, \"insert\"))\n",
    "print(my_list[1])\n",
    "print(my_list)\n",
    "my_list.append(3)\n",
    "print(my_list)\n",
    "my_list.remove(3)\n",
    "print(my_list)\n",
    "my_list.remove(3)\n",
    "print(my_list)\n",
    "print(-9.8 in my_list)\n",
    "print(my_list.index(-9.8))\n",
    "print(4 in my_list)\n",
    "print(len(my_list))\n",
    "print(sorted([3, 4, 3, -1, 99, 2]))"
   ]
  },
  {
   "cell_type": "markdown",
   "metadata": {},
   "source": [
    "### 2. Tuple\n",
    "\n",
    "Prediction:\n",
    "\n",
    "(Double click here and enter your prediction before running the next cell)"
   ]
  },
  {
   "cell_type": "code",
   "execution_count": null,
   "metadata": {},
   "outputs": [],
   "source": [
    "my_tuple = (\"Hello\", True, 3, -9.8, 11)\n",
    "print(my_tuple)\n",
    "print(my_tuple[1])\n",
    "print(my_tuple[0])\n",
    "print(my_tuple[-1])\n",
    "print(my_tuple[2:])\n",
    "print(my_tuple[2:-1])\n",
    "print(my_tuple[::2])\n",
    "print(my_tuple[::-1])\n",
    "print(my_tuple[::-2])\n",
    "print(-9.8 in my_tuple)\n",
    "print(my_tuple.index(-9.8))\n",
    "print(4 in my_tuple)\n",
    "print(len(my_tuple))\n",
    "print(sorted((3, 4, 3, -1, 99, 2)))"
   ]
  },
  {
   "cell_type": "markdown",
   "metadata": {},
   "source": [
    "### 3. Set\n",
    "\n",
    "Prediction:\n",
    "\n",
    "(Double click here and enter your prediction before running the next cell)"
   ]
  },
  {
   "cell_type": "code",
   "execution_count": null,
   "metadata": {},
   "outputs": [],
   "source": [
    "my_set = {\"Hello\", True, 3, -9.8, 11}\n",
    "print(my_set)\n",
    "my_set.add(\"add\")\n",
    "print(my_set)\n",
    "my_set.add(\"add\")\n",
    "print(my_set.difference({2, 12, 14, 11, 3, -9.8}))\n",
    "print(my_set - {2, 12, 14, 11, 3, -9.8})\n",
    "print(my_set.union({2, 12, 14, 11, 3, -9.8}))\n",
    "print(my_set.intersection({2, 12, 14, 11, 3, -9.8}))\n",
    "print(my_set.issuperset({11, 3, -9.8}))\n",
    "print({11, 3, -9.8}.issubset(my_set))\n",
    "print({11, 3, -9.8, 99999}.issubset(my_set))\n",
    "print(-9.8 in my_set)\n",
    "print(4 in my_set)\n",
    "print(len(my_set))\n",
    "print(sorted({3, 4, 3, -1, 99, 2}))"
   ]
  },
  {
   "cell_type": "markdown",
   "metadata": {},
   "source": [
    "### 4. Dict\n",
    "\n",
    "Prediction:\n",
    "\n",
    "(Double click here and enter your prediction before running the next cell)"
   ]
  },
  {
   "cell_type": "code",
   "execution_count": null,
   "metadata": {},
   "outputs": [],
   "source": [
    "my_dict = {\"Hello\": True, 3: -9.8, 11: 14}\n",
    "print(my_dict)\n",
    "print(my_dict.keys())\n",
    "print(my_dict.values())\n",
    "print(my_dict[\"Hello\"])\n",
    "print(my_dict[3])\n",
    "print(my_dict[11])\n",
    "my_dict[\"new key\"] = \"First value\"\n",
    "print(my_dict)\n",
    "my_dict[\"new key\"] = \"Second value\"\n",
    "print(my_dict)\n",
    "print(my_dict.pop(\"new key\"))\n",
    "print(my_dict)\n",
    "my_dict[\"key1\"] = \"Same value different key\"\n",
    "my_dict[\"key2\"] = \"Same value different key\"\n",
    "print(my_dict)\n",
    "my_dict.update({\"key3\": \"update\", \"key4\": \"update\", \"key5\": \"update\"})\n",
    "print(my_dict)\n",
    "print(-9.8 in my_dict)\n",
    "print(3 in my_dict)\n",
    "print(len(my_dict))\n",
    "print(sorted({3: 4, 4: -1, 99: 2}))"
   ]
  },
  {
   "cell_type": "markdown",
   "metadata": {},
   "source": [
    "### 5. Looping\n",
    "\n",
    "Prediction:\n",
    "\n",
    "(Double click here and enter your prediction before running the next cell)"
   ]
  },
  {
   "cell_type": "code",
   "execution_count": null,
   "metadata": {},
   "outputs": [],
   "source": [
    "print(list(range(10)))\n",
    "print(\"---\")\n",
    "\n",
    "my_list = [4, 6, 7, 4]\n",
    "print(my_list)\n",
    "my_tuple = tuple(my_list)\n",
    "print(my_tuple)\n",
    "my_set = set(my_list)\n",
    "print(my_set)\n",
    "my_dict = {\"a\": 11, \"b\": 4, \"c\": 65, \"d\": -1}\n",
    "print(my_dict)\n",
    "\n",
    "print(\"---\")\n",
    "for element in my_list:\n",
    "    print(element)\n",
    "    \n",
    "print(\"---\")\n",
    "for element in my_tuple:\n",
    "    print(element)\n",
    "    \n",
    "print(\"---\")\n",
    "for element in my_set:\n",
    "    print(element)\n",
    "    \n",
    "print(\"---\")\n",
    "for key, value in my_dict.items():\n",
    "    print(\"%s => %s\" % (key, value))"
   ]
  },
  {
   "cell_type": "markdown",
   "metadata": {},
   "source": [
    "## Writing Exercise\n",
    "\n",
    "In the following cells, write code which implements what the comments ask.\n",
    "\n",
    "Re-read the code in the same way as the Reading exercise\n",
    "to catch any errors and to predict how the code will be executed.\n",
    "\n",
    "Run the code by pressing the run button from the toolbar while\n",
    "the cell is selected or go to (Cell|Run Cells) with the cell\n",
    "selected."
   ]
  },
  {
   "cell_type": "code",
   "execution_count": null,
   "metadata": {},
   "outputs": [],
   "source": [
    "# 1.\n",
    "# Declare a list and loop through all the values to print them"
   ]
  },
  {
   "cell_type": "code",
   "execution_count": null,
   "metadata": {},
   "outputs": [],
   "source": [
    "# 2.\n",
    "# Convert a string into a list and loop through all the values to print them"
   ]
  },
  {
   "cell_type": "code",
   "execution_count": null,
   "metadata": {},
   "outputs": [],
   "source": [
    "# 3.\n",
    "# Convert a string into a set and loop through all the values to print them"
   ]
  },
  {
   "cell_type": "code",
   "execution_count": null,
   "metadata": {},
   "outputs": [],
   "source": [
    "# 4.\n",
    "# Create function which takes a list as a parameter and prints out a representation\n",
    "# like in the review section\n",
    "\n",
    "def list_representation(my_list):\n",
    "    # ==== Insert code here ====\n",
    "    \n",
    "list_representation([\"A\", \"B\", \"C\", \"D\", \"E\"])"
   ]
  },
  {
   "cell_type": "code",
   "execution_count": null,
   "metadata": {},
   "outputs": [],
   "source": [
    "# 5.\n",
    "# Create function which takes a dict as a parameter and prints out a representation\n",
    "# like in the review section\n",
    "\n",
    "def dict_representation(my_list):\n",
    "    # ==== Insert code here ====\n",
    "    \n",
    "dict_representation({\"Hello\": True, 3: -9.8, 11: 14})"
   ]
  },
  {
   "cell_type": "markdown",
   "metadata": {},
   "source": [
    "## Next Notebook\n",
    "\n",
    "Proceed with the next notebook by going back to the root File directory or parent tab."
   ]
  }
 ],
 "metadata": {
  "kernelspec": {
   "display_name": "Python 3",
   "language": "python",
   "name": "python3"
  },
  "language_info": {
   "codemirror_mode": {
    "name": "ipython",
    "version": 3
   },
   "file_extension": ".py",
   "mimetype": "text/x-python",
   "name": "python",
   "nbconvert_exporter": "python",
   "pygments_lexer": "ipython3",
   "version": "3.6.3"
  }
 },
 "nbformat": 4,
 "nbformat_minor": 2
}
