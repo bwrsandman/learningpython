{
 "cells": [
  {
   "cell_type": "markdown",
   "metadata": {},
   "source": [
    "# Loops"
   ]
  },
  {
   "cell_type": "markdown",
   "metadata": {},
   "source": [
    "## Review\n",
    "\n",
    "Loops are another type of flow control which will repeat their body based on an expression given.\n",
    "\n",
    "Loops are related to conditional statments as they both have clauses, expressions and bodies.\n",
    "In essence, a loop runs code and runs and implied `if expression: jump back to start of body`.\n",
    "\n",
    "As with conditional statments the body of a loop as its own scope.\n",
    "\n",
    "There are two types of loops in python: while loops and for each loops.\n",
    "\n",
    "### while loops\n",
    "While loops are the most closely related loops to conditional statments. They are started with a clause started by the `while` keyword, followed by an expression, then a `:` character and a body.\n",
    "\n",
    "The expression of a while loop is evaluated before the body at each iteration of the loop.\n",
    "If the expression of the while loop is not updated (e.g. variables don't change), then the while\n",
    "loop is run forever. This is typically something to be avoid and is known as an infinite loop.\n",
    "\n",
    "### for each loop\n",
    "For each loops are the most common loops used in python. They are started with a clause started by the `while` keyword, followed by an iterable expression, then a `:` character and a body. They interate over an iterable list of values (e.g. each value in a list, each character in a string). They are less likely to result in infinite loops as the iterable expression usually have a limit.\n",
    "\n",
    "The iterable expression assigns the next value available to a named variable before each execution of the body. If there is no value left in the iterable, then the expression fails and the body is no exectuted.\n",
    "\n",
    "### `continue` and `break` keywords\n",
    "\n",
    "In a loop, the keywords `continue` and `break` can be used.\n",
    "\n",
    "`continue` triggers a restart of the loop which will execute the evaluation of the expression again.\n",
    "\n",
    "`break` forces the loop to end and will no longer loop\n",
    "\n",
    "## In case of an infinite loop\n",
    "\n",
    "There is a chance that in the exercises, an inifite loop is created.\n",
    "\n",
    "This is a moderately severe type of bug and it requires a special intervention to stop once it\n",
    "is running.\n",
    "\n",
    "With Jupyter, you can press the square stop button next to Run or (Kernel|Interrupt) with the cell in question selected to cause the loop to stop."
   ]
  },
  {
   "cell_type": "markdown",
   "metadata": {},
   "source": [
    "## Reading Exercise\n",
    "\n",
    "In your own words explain what is happening in the following code snippets.\n",
    "\n",
    "For each line, what does python do, how does this affect the next execution of the loop.\n",
    "\n",
    "How many times is the loop run?\n",
    "\n",
    "On each time the loop is run, what is the evaluation of the expression?"
   ]
  },
  {
   "cell_type": "markdown",
   "metadata": {},
   "source": [
    "### 1. Simple while loop\n",
    "\n",
    "Prediction:\n",
    "\n",
    "(Double click here and enter your prediction before running the next cell)"
   ]
  },
  {
   "cell_type": "code",
   "execution_count": null,
   "metadata": {},
   "outputs": [],
   "source": [
    "i = 0  # declared beyond of scope of loop\n",
    "x = 50\n",
    "while x > 0:\n",
    "    x = x - 5\n",
    "    i = i + 1\n",
    "    print(\"%d: %d\" % (i, x))"
   ]
  },
  {
   "cell_type": "markdown",
   "metadata": {},
   "source": [
    "### 2. Simple for loop\n",
    "\n",
    "Prediction:\n",
    "\n",
    "(Double click here and enter your prediction before running the next cell)"
   ]
  },
  {
   "cell_type": "code",
   "execution_count": null,
   "metadata": {},
   "outputs": [],
   "source": [
    "i = 0  # declared beyond of scope of loop\n",
    "for x in [0, 1, 2, 6, 7, 8]:\n",
    "    i = i + 1\n",
    "    print(\"%d: %d\" % (i, x))"
   ]
  },
  {
   "cell_type": "markdown",
   "metadata": {},
   "source": [
    "### 3. Range for loop\n",
    "\n",
    "Prediction:\n",
    "\n",
    "(Double click here and enter your prediction before running the next cell)"
   ]
  },
  {
   "cell_type": "code",
   "execution_count": null,
   "metadata": {},
   "outputs": [],
   "source": [
    "i = 0  # declared beyond of scope of loop\n",
    "for x in range(10):\n",
    "    i = i + 1\n",
    "    print(\"%d: %d\" % (i, x))"
   ]
  },
  {
   "cell_type": "markdown",
   "metadata": {},
   "source": [
    "### 3. Complex while loop\n",
    "\n",
    "Prediction:\n",
    "\n",
    "(Double click here and enter your prediction before running the next cell)"
   ]
  },
  {
   "cell_type": "code",
   "execution_count": null,
   "metadata": {},
   "outputs": [],
   "source": [
    "# I recommend runnning this one a few times\n",
    "\n",
    "from random import random  # use the random module for random values\n",
    "\n",
    "while True:\n",
    "    random_value = random()  # get a random value between 0 and 1\n",
    "    print(\"%.5f: \" % random_value, end=\"\")\n",
    "    if random_value > 0.9:\n",
    "        print(\"Value is too big, continuing\")\n",
    "        continue\n",
    "    elif random_value < 0.1:\n",
    "        print(\"Value is too small, breaking\")\n",
    "        break\n",
    "    print(\"Loop ran until end\")"
   ]
  },
  {
   "cell_type": "markdown",
   "metadata": {},
   "source": [
    "## Writing Exercise\n",
    "\n",
    "In the following cells, write code which implements what the comments ask.\n",
    "\n",
    "Re-read the code in the same way as the Reading exercise\n",
    "to catch any errors and to predict how the code will be executed.\n",
    "\n",
    "Run the code by pressing the run button from the toolbar while\n",
    "the cell is selected or go to (Cell|Run Cells) with the cell\n",
    "selected."
   ]
  },
  {
   "cell_type": "code",
   "execution_count": null,
   "metadata": {},
   "outputs": [],
   "source": [
    "# 1.\n",
    "# Make a for each loop which prints the contents of a list of your choice\n"
   ]
  },
  {
   "cell_type": "code",
   "execution_count": null,
   "metadata": {},
   "outputs": [],
   "source": [
    "# 2.\n",
    "# Make a for each loop which prints each character of a string\n"
   ]
  },
  {
   "cell_type": "code",
   "execution_count": null,
   "metadata": {},
   "outputs": [],
   "source": [
    "# 3.\n",
    "# Here is a while loop which gets a random number and adds them to a counter variable.\n",
    "# Add to this:\n",
    "# continue the loop if the variable is smaller than 0.25\n",
    "# if the counter variable is larger than 50, break out of the loop\n",
    "# The last command in the body should print the current value of the counter variable\n",
    "\n",
    "from random import random  # use the random module for random values\n",
    "\n",
    "counter = 0\n",
    "\n",
    "while counter < 2000:  # 2000 is here to prevent infinite loop\n",
    "    random_value = random()  # get a random value between 0 and 1\n",
    "    counter += random_value\n",
    "    # ==== Insert code here ===="
   ]
  },
  {
   "cell_type": "code",
   "execution_count": null,
   "metadata": {},
   "outputs": [],
   "source": [
    "# 4.\n",
    "# Using a range for loop, print the result of a multiplication by using only additions\n",
    "# (e.g. base=5 and multiplier=3 -> 5*3 -> 5 + 5 + 5 = 15)\n",
    "\n",
    "base = 2\n",
    "multiplier = 4\n",
    "\n",
    "result = 0\n",
    "\n",
    "# ==== Insert loop here ====:\n",
    "\n",
    "print(result)"
   ]
  },
  {
   "cell_type": "code",
   "execution_count": null,
   "metadata": {},
   "outputs": [],
   "source": [
    "# 5.\n",
    "# Using two nested range for loop, print the result of a exponent by using only additions\n",
    "# (e.g. base=3 and exp=2 -> 3^2 -> 3 * 3 = 3 + 3 + 3 = 9)\n",
    "\n",
    "base = 2\n",
    "exp = 4\n",
    "\n",
    "result = 0\n",
    "\n",
    "# ==== Insert loop here ====:\n",
    "#     ==== Insert loop here ====:\n",
    "\n",
    "print(result)"
   ]
  },
  {
   "cell_type": "markdown",
   "metadata": {},
   "source": [
    "## Next Notebook\n",
    "\n",
    "Proceed with the next notebook by going back to the root File directory or parent tab."
   ]
  }
 ],
 "metadata": {
  "kernelspec": {
   "display_name": "Python 3",
   "language": "python",
   "name": "python3"
  },
  "language_info": {
   "codemirror_mode": {
    "name": "ipython",
    "version": 3
   },
   "file_extension": ".py",
   "mimetype": "text/x-python",
   "name": "python",
   "nbconvert_exporter": "python",
   "pygments_lexer": "ipython3",
   "version": "3.6.3"
  }
 },
 "nbformat": 4,
 "nbformat_minor": 2
}
