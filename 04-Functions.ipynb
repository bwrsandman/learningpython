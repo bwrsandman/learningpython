{
 "cells": [
  {
   "cell_type": "markdown",
   "metadata": {},
   "source": [
    "# Functions"
   ]
  },
  {
   "cell_type": "markdown",
   "metadata": {},
   "source": [
    "## Review\n",
    "\n",
    "A function is a collection of commands regroupped into a body which run when the function is called.\n",
    "\n",
    "Like a variable, a function is declared with a name and its value it its body. Additionally, a function will also have a parameter list. A function declaration starts with the keyword `def`, followed by its name, a parameter list (which can be empty) in parenthesis. The declaration line ends with the `:` character and should be followed by an indented body. \n",
    "\n",
    "Functions are often used to retreive values. A function will use the keyword `return` to give a return value to the scope in which it was called.\n",
    "\n",
    "A function parameter is a variable for which its value can depends on how the function is called (e.g. `def foo(x): return 2 * x` will give different values if it is called with 2 or with 3 (e.g. `foo(2)` returns 4 and `foo(3)` returns 6 due to the different value of the parameter in the body of the function.\n",
    "\n",
    "A function which calls itself is called a [recursive function](https://en.wikipedia.org/wiki/Recursion_(computer_science%29) and, like loops, can lead to infinite loops if not breaked out of. Unlike in loops the `continue` and `break` commands do not work, so the way to break out of a recursive function is to prevent it from calling itself with an if statement and the value of a parameter which changes. Any recursive function can be implemented with a loop. There are advantages and disadvantages to using recursive functions instead of loops."
   ]
  },
  {
   "cell_type": "markdown",
   "metadata": {},
   "source": [
    "## Reading Exercise\n",
    "\n",
    "In your own words explain what is happening in the following code snippets.\n",
    "\n",
    "For each line, what does python do and where does the execution go next. For example, a line which calls a function will be followed by the first line of that function's body.\n",
    "\n",
    "For each function call, look at its declaration and write down what the value of each parameter is and write down the value of the return function."
   ]
  },
  {
   "cell_type": "markdown",
   "metadata": {},
   "source": [
    "### 1. Simple function declaration and call\n",
    "\n",
    "Prediction:\n",
    "\n",
    "(Double click here and enter your prediction before running the next cell)"
   ]
  },
  {
   "cell_type": "code",
   "execution_count": null,
   "metadata": {},
   "outputs": [],
   "source": [
    "def hello():\n",
    "    print(\"Hello World!\")\n",
    "    \n",
    "hello()"
   ]
  },
  {
   "cell_type": "markdown",
   "metadata": {},
   "source": [
    "### 2. Simple function declaration with parameter and call\n",
    "\n",
    "Prediction:\n",
    "\n",
    "(Double click here and enter your prediction before running the next cell)"
   ]
  },
  {
   "cell_type": "code",
   "execution_count": null,
   "metadata": {},
   "outputs": [],
   "source": [
    "def hello(repeats):\n",
    "    for i in range(repeats):\n",
    "        print(i, \"Hello World!\")\n",
    "    \n",
    "hello(5)"
   ]
  },
  {
   "cell_type": "markdown",
   "metadata": {},
   "source": [
    "### 3. Function with return value\n",
    "\n",
    "Prediction:\n",
    "\n",
    "(Double click here and enter your prediction before running the next cell)"
   ]
  },
  {
   "cell_type": "code",
   "execution_count": null,
   "metadata": {},
   "outputs": [],
   "source": [
    "def line_intersection(x):\n",
    "    m = 0.5  # slope\n",
    "    b = 8.0  # zero intersection\n",
    "    return m * x + b\n",
    " \n",
    "y = line_intersection(2.0)\n",
    "y"
   ]
  },
  {
   "cell_type": "markdown",
   "metadata": {},
   "source": [
    "### 4. Function calling another function\n",
    "\n",
    "Prediction:\n",
    "\n",
    "(Double click here and enter your prediction before running the next cell)"
   ]
  },
  {
   "cell_type": "code",
   "execution_count": null,
   "metadata": {},
   "outputs": [],
   "source": [
    "def hello(repeats, name):\n",
    "    for i in range(repeats):\n",
    "        message = get_personalized_message(name)\n",
    "        print(i, message)\n",
    "\n",
    "def get_personalized_message(name):\n",
    "    return \"Hello \" + name\n",
    " \n",
    "hello(5, \"Jupyter\")"
   ]
  },
  {
   "cell_type": "markdown",
   "metadata": {},
   "source": [
    "### 5. Recursive function\n",
    "\n",
    "Prediction:\n",
    "\n",
    "(Double click here and enter your prediction before running the next cell)"
   ]
  },
  {
   "cell_type": "code",
   "execution_count": null,
   "metadata": {},
   "outputs": [],
   "source": [
    "def recursion_1(remaining):\n",
    "    if remaining > 0:\n",
    "        recursion_1(remaining - 1)\n",
    "    print(remaining * \"x\")\n",
    "    \n",
    "def recursion_2(remaining):\n",
    "    print(remaining * \"x\")\n",
    "    if remaining > 0:\n",
    "        recursion_2(remaining - 1)\n",
    "\n",
    "print(\"-----\")\n",
    "recursion_1(10)\n",
    "print(\"-----\")\n",
    "recursion_2(10)\n",
    "print(\"-----\")"
   ]
  },
  {
   "cell_type": "markdown",
   "metadata": {},
   "source": [
    "\n",
    "## Writing Exercise\n",
    "\n",
    "In the following cells, write code which implements what the comments ask.\n",
    "\n",
    "Re-read the code in the same way as the Reading exercise\n",
    "to catch any errors and to predict how the code will be executed.\n",
    "\n",
    "Run the code by pressing the run button from the toolbar while\n",
    "the cell is selected or go to (Cell|Run Cells) with the cell\n",
    "selected."
   ]
  },
  {
   "cell_type": "code",
   "execution_count": null,
   "metadata": {},
   "outputs": [],
   "source": [
    "# 1.\n",
    "# Create a function which prints a message when called.\n",
    "# Test this function"
   ]
  },
  {
   "cell_type": "code",
   "execution_count": null,
   "metadata": {},
   "outputs": [],
   "source": [
    "# 2.\n",
    "# Create a function which repeatedly calls the function created in 1\n",
    "# Create a parameter for this function which controls the number of times\n",
    "# the function in 1 is called.\n",
    "# Test this function by calling it with different parameters"
   ]
  },
  {
   "cell_type": "code",
   "execution_count": null,
   "metadata": {},
   "outputs": [],
   "source": [
    "# 3.\n",
    "# Create a function with two parameters which returns the largest of the\n",
    "# two parameters\n",
    "# Test this function by calling it with different parameters"
   ]
  },
  {
   "cell_type": "code",
   "execution_count": null,
   "metadata": {},
   "outputs": [],
   "source": [
    "# 4.\n",
    "# Using the loops from Writing Exercises 4 and 5 from the Loops notebook,\n",
    "# Create a multiplication and an exponent function which can take any\n",
    "# base and multiplier/exp as a variable.\n",
    "# Name these functions \"multiplication\" and \"exponent\"\n",
    "# Test these functions with many combinations"
   ]
  },
  {
   "cell_type": "code",
   "execution_count": null,
   "metadata": {},
   "outputs": [],
   "source": [
    "# 5.\n",
    "# Convert the functions from 4 to recursive functions by taking out the loops\n",
    "# and replacing them with calls to the same function but with decreasing values\n",
    "# for multiplication/exp. Just be careful not to go lower than 0.\n",
    "# Name these functions \"multiplication_recursive\" and \"exponent_recursive\"\n",
    "# Test these functions with many combinations"
   ]
  },
  {
   "cell_type": "markdown",
   "metadata": {},
   "source": [
    "## Next Notebook\n",
    "\n",
    "Proceed with the next notebook by going back to the root File directory or parent tab."
   ]
  }
 ],
 "metadata": {
  "kernelspec": {
   "display_name": "Python 3",
   "language": "python",
   "name": "python3"
  },
  "language_info": {
   "codemirror_mode": {
    "name": "ipython",
    "version": 3
   },
   "file_extension": ".py",
   "mimetype": "text/x-python",
   "name": "python",
   "nbconvert_exporter": "python",
   "pygments_lexer": "ipython3",
   "version": "3.6.3"
  }
 },
 "nbformat": 4,
 "nbformat_minor": 2
}
